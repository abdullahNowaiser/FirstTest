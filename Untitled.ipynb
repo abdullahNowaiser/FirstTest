{
 "cells": [
  {
   "cell_type": "code",
   "execution_count": null,
   "id": "3e56dcb7",
   "metadata": {},
   "outputs": [],
   "source": [
    "# First Project"
   ]
  },
  {
   "cell_type": "code",
   "execution_count": null,
   "id": "78e8bf9e",
   "metadata": {},
   "outputs": [],
   "source": [
    "# This is my first PROJECT "
   ]
  },
  {
   "cell_type": "code",
   "execution_count": null,
   "id": "f287b055",
   "metadata": {},
   "outputs": [],
   "source": [
    "# Python\n",
    "# R\n",
    "# SQL\n",
    "# Java\n",
    "# Julia\n",
    "# Scala\n",
    "# C/C++\n",
    "# JavaScript\n",
    "# Swift\n",
    "# Go\n",
    "# MATLAB\n",
    "# SAS"
   ]
  },
  {
   "cell_type": "code",
   "execution_count": null,
   "id": "8d62b024",
   "metadata": {},
   "outputs": [],
   "source": [
    "#TensorFlow\n",
    "#NumPy\n",
    "#SciPy \n",
    "#Pandas\n",
    "#Matplotlib \n",
    "#Keras\n",
    "#SciKit-Learn\n",
    "#PyTorch\n",
    "#Scrapy\n",
    "#BeautifulSoup\n",
    "#LightGBM\n",
    "#ELI5\n",
    "#Theano\n",
    "#NuPIC\n",
    "#Ramp\n",
    "#Pipenv\n",
    "#Bob\n",
    "#PyBrain\n",
    "#Caffe2\n",
    "#Chainer\n",
    "#Apache Spark\n",
    "#BigML\n",
    "#D3\n",
    "#MATLAB\n",
    "#Excel\n",
    "#ggplot2\n",
    "#Tableau"
   ]
  },
  {
   "cell_type": "code",
   "execution_count": null,
   "id": "80407247",
   "metadata": {},
   "outputs": [],
   "source": [
    "#1 + 3 is 4\n",
    "#1.23 - 0.45 is 0.78\n",
    "#3 * 8 is 24\n",
    "#6.5/1.25 is 5.2"
   ]
  },
  {
   "cell_type": "code",
   "execution_count": null,
   "id": "d3e30df6",
   "metadata": {},
   "outputs": [],
   "source": [
    "num = input(\"Enter a number:\")    \n",
    "doub = int(num) * 2  # <-- HERE  \n",
    "print(\"Double of {0}, is {1}\".format(num, doub))\n",
    "\n",
    "num = input(\"Enter a number:\")    \n",
    "doub = int(num) + 2  # <-- HERE  \n",
    "print(\"Double of {0}, is {1}\".format(num, doub))"
   ]
  },
  {
   "cell_type": "code",
   "execution_count": null,
   "id": "b68f53eb",
   "metadata": {},
   "outputs": [],
   "source": [
    "# Enter the number of minutes you want to convert\n",
    "minutes = 120\n",
    "\n",
    "# Convert minutes to hours using integer division\n",
    "hours = minutes // 60\n",
    "\n",
    "# Calculate the remaining minutes\n",
    "remaining_minutes = minutes % 60\n",
    "\n",
    "# Print the result\n",
    "print(f\"{minutes} minutes is equal to {hours} hour(s) and {remaining_minutes} minute(s).\")"
   ]
  },
  {
   "cell_type": "code",
   "execution_count": null,
   "id": "e55ff8a9",
   "metadata": {},
   "outputs": [],
   "source": [
    "#Collecting data\n",
    "#Processing data\n",
    "#Exploring and visualizing data\n",
    "#Analyzing (data) and/or applying machine learning (to data)\n",
    "#Deciding (or planning) based on acquired insight"
   ]
  },
  {
   "cell_type": "code",
   "execution_count": null,
   "id": "6127f127",
   "metadata": {},
   "outputs": [],
   "source": [
    "# Abdullah Alnowaiser"
   ]
  }
 ],
 "metadata": {
  "kernelspec": {
   "display_name": "Python 3 (ipykernel)",
   "language": "python",
   "name": "python3"
  },
  "language_info": {
   "codemirror_mode": {
    "name": "ipython",
    "version": 3
   },
   "file_extension": ".py",
   "mimetype": "text/x-python",
   "name": "python",
   "nbconvert_exporter": "python",
   "pygments_lexer": "ipython3",
   "version": "3.9.12"
  }
 },
 "nbformat": 4,
 "nbformat_minor": 5
}
